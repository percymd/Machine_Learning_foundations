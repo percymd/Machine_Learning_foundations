{
 "cells": [
  {
   "cell_type": "code",
   "execution_count": 8,
   "id": "601d9489",
   "metadata": {},
   "outputs": [],
   "source": [
    "import tensorflow as tf\n",
    "from tensorflow import keras"
   ]
  },
  {
   "cell_type": "code",
   "execution_count": 9,
   "id": "6e3540d6",
   "metadata": {},
   "outputs": [],
   "source": [
    "fashion_mnist = keras.datasets.fashion_mnist\n",
    "(train_images, train_labels), (test_images, test_labels) = fashion_mnist.load_data()"
   ]
  },
  {
   "cell_type": "code",
   "execution_count": 10,
   "id": "d8686fb5",
   "metadata": {},
   "outputs": [],
   "source": [
    "model = keras.Sequential([keras.layers.Flatten(input_shape = (28, 28)), keras.layers.Dense(128, activation = tf.nn.relu), keras.layers.Dense(10, activation = tf.nn.softmax)])"
   ]
  },
  {
   "cell_type": "code",
   "execution_count": 11,
   "id": "5ed02783",
   "metadata": {},
   "outputs": [],
   "source": [
    "model.compile(optimizer = tf.optimizers.Adam(), \n",
    "              loss = 'sparse_categorical_crossentropy', \n",
    "              metrics = ['accuracy'])"
   ]
  },
  {
   "cell_type": "code",
   "execution_count": 12,
   "id": "b329b779",
   "metadata": {},
   "outputs": [
    {
     "name": "stdout",
     "output_type": "stream",
     "text": [
      "Epoch 1/5\n",
      "1875/1875 [==============================] - 4s 2ms/step - loss: 3.1477 - accuracy: 0.6872\n",
      "Epoch 2/5\n",
      "1875/1875 [==============================] - 3s 2ms/step - loss: 0.6879 - accuracy: 0.7304\n",
      "Epoch 3/5\n",
      "1875/1875 [==============================] - 3s 2ms/step - loss: 0.6390 - accuracy: 0.7531\n",
      "Epoch 4/5\n",
      "1875/1875 [==============================] - 3s 2ms/step - loss: 0.5955 - accuracy: 0.7689\n",
      "Epoch 5/5\n",
      "1875/1875 [==============================] - 3s 2ms/step - loss: 0.5693 - accuracy: 0.7792\n"
     ]
    },
    {
     "data": {
      "text/plain": [
       "<tensorflow.python.keras.callbacks.History at 0x28b99958c70>"
      ]
     },
     "execution_count": 12,
     "metadata": {},
     "output_type": "execute_result"
    }
   ],
   "source": [
    "model.fit(train_images, train_labels, epochs = 5)"
   ]
  },
  {
   "cell_type": "code",
   "execution_count": 13,
   "id": "09e57377",
   "metadata": {},
   "outputs": [
    {
     "name": "stdout",
     "output_type": "stream",
     "text": [
      "313/313 [==============================] - 0s 1ms/step - loss: 0.6069 - accuracy: 0.7533\n"
     ]
    }
   ],
   "source": [
    "test_loss, test_acc = model.evaluate( test_images, test_labels )"
   ]
  },
  {
   "cell_type": "code",
   "execution_count": 14,
   "id": "a0f983e6",
   "metadata": {},
   "outputs": [
    {
     "data": {
      "text/plain": [
       "array([[8.2281776e-34, 7.2570344e-23, 0.0000000e+00, ..., 3.1933397e-01,\n",
       "        1.0668968e-15, 6.5340364e-01],\n",
       "       [9.2712278e-03, 6.5729563e-04, 5.2114791e-01, ..., 2.4272568e-14,\n",
       "        3.1517933e-03, 7.2286822e-11],\n",
       "       [3.8119121e-15, 1.0000000e+00, 6.9922461e-14, ..., 0.0000000e+00,\n",
       "        7.4640489e-14, 0.0000000e+00],\n",
       "       ...,\n",
       "       [2.1999124e-02, 6.3578831e-04, 6.9071190e-04, ..., 1.0023696e-18,\n",
       "        9.1794163e-01, 1.2345029e-14],\n",
       "       [1.8707608e-10, 9.9999988e-01, 1.1411540e-11, ..., 0.0000000e+00,\n",
       "        6.9852450e-11, 0.0000000e+00],\n",
       "       [1.1945043e-11, 5.4597220e-15, 5.7635676e-12, ..., 9.1834023e-05,\n",
       "        4.2720209e-04, 4.7176873e-06]], dtype=float32)"
      ]
     },
     "execution_count": 14,
     "metadata": {},
     "output_type": "execute_result"
    }
   ],
   "source": [
    "model.predict(test_images)"
   ]
  },
  {
   "cell_type": "code",
   "execution_count": null,
   "id": "532d662b",
   "metadata": {},
   "outputs": [],
   "source": []
  }
 ],
 "metadata": {
  "kernelspec": {
   "display_name": "Python 3",
   "language": "python",
   "name": "python3"
  },
  "language_info": {
   "codemirror_mode": {
    "name": "ipython",
    "version": 3
   },
   "file_extension": ".py",
   "mimetype": "text/x-python",
   "name": "python",
   "nbconvert_exporter": "python",
   "pygments_lexer": "ipython3",
   "version": "3.8.6rc1"
  }
 },
 "nbformat": 4,
 "nbformat_minor": 5
}
