{
 "cells": [
  {
   "cell_type": "markdown",
   "id": "a7059ba4",
   "metadata": {},
   "source": [
    "# Numpy"
   ]
  },
  {
   "cell_type": "code",
   "execution_count": 1,
   "id": "b1bb9d62",
   "metadata": {},
   "outputs": [],
   "source": [
    "import numpy as np"
   ]
  },
  {
   "cell_type": "code",
   "execution_count": 2,
   "id": "dc85069d",
   "metadata": {},
   "outputs": [
    {
     "data": {
      "text/plain": [
       "array([10, 20, 24,  5, 15, 50])"
      ]
     },
     "execution_count": 2,
     "metadata": {},
     "output_type": "execute_result"
    }
   ],
   "source": [
    "np.array([10, 20, 24, 5, 15, 50])"
   ]
  },
  {
   "cell_type": "code",
   "execution_count": 3,
   "id": "8ded7279",
   "metadata": {},
   "outputs": [
    {
     "data": {
      "text/plain": [
       "30"
      ]
     },
     "execution_count": 3,
     "metadata": {},
     "output_type": "execute_result"
    }
   ],
   "source": [
    "a = np.array([10, 30, 20, 4, 30, 51, 7, 2, 4, 40, 100])\n",
    "a[4]"
   ]
  },
  {
   "cell_type": "code",
   "execution_count": 4,
   "id": "e48d2ac9",
   "metadata": {},
   "outputs": [
    {
     "data": {
      "text/plain": [
       "array([  4,  30,  51,   7,   2,   4,  40, 100])"
      ]
     },
     "execution_count": 4,
     "metadata": {},
     "output_type": "execute_result"
    }
   ],
   "source": [
    "a[3:]"
   ]
  },
  {
   "cell_type": "code",
   "execution_count": 5,
   "id": "4d8f5357",
   "metadata": {},
   "outputs": [
    {
     "data": {
      "text/plain": [
       "array([ 4, 30, 51,  7])"
      ]
     },
     "execution_count": 5,
     "metadata": {},
     "output_type": "execute_result"
    }
   ],
   "source": [
    "a[3:7]"
   ]
  },
  {
   "cell_type": "code",
   "execution_count": 6,
   "id": "7432630c",
   "metadata": {},
   "outputs": [
    {
     "data": {
      "text/plain": [
       "array([30, 51, 40])"
      ]
     },
     "execution_count": 6,
     "metadata": {},
     "output_type": "execute_result"
    }
   ],
   "source": [
    "a[1::4]"
   ]
  },
  {
   "cell_type": "code",
   "execution_count": 7,
   "id": "cd02eb9c",
   "metadata": {},
   "outputs": [
    {
     "data": {
      "text/plain": [
       "array([0., 0., 0., 0., 0.])"
      ]
     },
     "execution_count": 7,
     "metadata": {},
     "output_type": "execute_result"
    }
   ],
   "source": [
    "np.zeros(5)"
   ]
  },
  {
   "cell_type": "code",
   "execution_count": 8,
   "id": "f7af68b0",
   "metadata": {},
   "outputs": [],
   "source": [
    "ones = np.ones((4, 5))"
   ]
  },
  {
   "cell_type": "code",
   "execution_count": 9,
   "id": "934ec483",
   "metadata": {},
   "outputs": [
    {
     "data": {
      "text/plain": [
       "numpy.ndarray"
      ]
     },
     "execution_count": 9,
     "metadata": {},
     "output_type": "execute_result"
    }
   ],
   "source": [
    "type(ones)"
   ]
  },
  {
   "cell_type": "code",
   "execution_count": 10,
   "id": "f79e181a",
   "metadata": {},
   "outputs": [
    {
     "data": {
      "text/plain": [
       "array([ 3.  ,  4.75,  6.5 ,  8.25, 10.  ])"
      ]
     },
     "execution_count": 10,
     "metadata": {},
     "output_type": "execute_result"
    }
   ],
   "source": [
    "np.linspace(3, 10, 5)"
   ]
  },
  {
   "cell_type": "code",
   "execution_count": 11,
   "id": "fd8ece51",
   "metadata": {},
   "outputs": [
    {
     "name": "stdout",
     "output_type": "stream",
     "text": [
      "[['x' 'y' 'z']\n",
      " ['a' 'c' 'e']]\n"
     ]
    },
    {
     "data": {
      "text/plain": [
       "numpy.ndarray"
      ]
     },
     "execution_count": 11,
     "metadata": {},
     "output_type": "execute_result"
    }
   ],
   "source": [
    "b = np.array([['x', 'y', 'z'], ['a', 'c', 'e']])\n",
    "print(b)\n",
    "type(b)"
   ]
  },
  {
   "cell_type": "code",
   "execution_count": 12,
   "id": "dfbdaf94",
   "metadata": {},
   "outputs": [
    {
     "data": {
      "text/plain": [
       "2"
      ]
     },
     "execution_count": 12,
     "metadata": {},
     "output_type": "execute_result"
    }
   ],
   "source": [
    "b.ndim"
   ]
  },
  {
   "cell_type": "code",
   "execution_count": 13,
   "id": "b26bbd72",
   "metadata": {},
   "outputs": [
    {
     "data": {
      "text/plain": [
       "array([ 4, 10, 12, 12, 40])"
      ]
     },
     "execution_count": 13,
     "metadata": {},
     "output_type": "execute_result"
    }
   ],
   "source": [
    "c = [12, 4, 10, 12, 40]\n",
    "np.sort(c)"
   ]
  },
  {
   "cell_type": "code",
   "execution_count": 14,
   "id": "91a9da72",
   "metadata": {},
   "outputs": [
    {
     "data": {
      "text/plain": [
       "array([(b'Juan', 10), (b'Samuel', 15), (b'Javier', 42), (b'Maria', 70)],\n",
       "      dtype=[('nombre', 'S10'), ('edad', '<i4')])"
      ]
     },
     "execution_count": 14,
     "metadata": {},
     "output_type": "execute_result"
    }
   ],
   "source": [
    "cabeceras = [('nombre', 'S10'), ('edad', int)]\n",
    "datos = [('Juan', 10), ('Maria', 70), ('Javier', 42), ('Samuel', 15)]\n",
    "usuarios = np.array(datos, dtype=cabeceras)\n",
    "\n",
    "np.sort(usuarios, order='edad')"
   ]
  },
  {
   "cell_type": "code",
   "execution_count": 15,
   "id": "2c90260d",
   "metadata": {},
   "outputs": [
    {
     "data": {
      "text/plain": [
       "array([ 0,  1,  2,  3,  4,  5,  6,  7,  8,  9, 10, 11, 12, 13, 14, 15, 16,\n",
       "       17, 18, 19, 20, 21, 22, 23, 24])"
      ]
     },
     "execution_count": 15,
     "metadata": {},
     "output_type": "execute_result"
    }
   ],
   "source": [
    "np.arange(25)"
   ]
  },
  {
   "cell_type": "code",
   "execution_count": 16,
   "id": "1152bf6f",
   "metadata": {},
   "outputs": [
    {
     "data": {
      "text/plain": [
       "array([ 5,  6,  7,  8,  9, 10, 11, 12, 13, 14, 15, 16, 17, 18, 19, 20, 21,\n",
       "       22, 23, 24, 25, 26, 27, 28, 29])"
      ]
     },
     "execution_count": 16,
     "metadata": {},
     "output_type": "execute_result"
    }
   ],
   "source": [
    "np.arange(5,30)"
   ]
  },
  {
   "cell_type": "code",
   "execution_count": 17,
   "id": "d00a29dc",
   "metadata": {},
   "outputs": [
    {
     "data": {
      "text/plain": [
       "array([ 5, 10, 15, 20, 25, 30, 35, 40, 45])"
      ]
     },
     "execution_count": 17,
     "metadata": {},
     "output_type": "execute_result"
    }
   ],
   "source": [
    "np.arange(5, 50, 5)"
   ]
  },
  {
   "cell_type": "code",
   "execution_count": 18,
   "id": "7d57eef7",
   "metadata": {},
   "outputs": [
    {
     "data": {
      "text/plain": [
       "array([[10, 10, 10, 10, 10],\n",
       "       [10, 10, 10, 10, 10],\n",
       "       [10, 10, 10, 10, 10]])"
      ]
     },
     "execution_count": 18,
     "metadata": {},
     "output_type": "execute_result"
    }
   ],
   "source": [
    "np.full((3, 5), 10)"
   ]
  },
  {
   "cell_type": "code",
   "execution_count": 19,
   "id": "35c78f45",
   "metadata": {},
   "outputs": [
    {
     "data": {
      "text/plain": [
       "array([[ 0,  0,  0,  0],\n",
       "       [ 0,  3,  0,  0],\n",
       "       [ 0,  0,  9,  0],\n",
       "       [ 0,  0,  0, 10]])"
      ]
     },
     "execution_count": 19,
     "metadata": {},
     "output_type": "execute_result"
    }
   ],
   "source": [
    "np.diag([0, 3, 9, 10])"
   ]
  },
  {
   "cell_type": "markdown",
   "id": "67fe4906",
   "metadata": {},
   "source": [
    "# Pandas"
   ]
  },
  {
   "cell_type": "code",
   "execution_count": 20,
   "id": "14221229",
   "metadata": {},
   "outputs": [],
   "source": [
    "import pandas as pd"
   ]
  },
  {
   "cell_type": "code",
   "execution_count": 22,
   "id": "508bc6e7",
   "metadata": {},
   "outputs": [
    {
     "data": {
      "text/plain": [
       "0     5\n",
       "1    10\n",
       "2    15\n",
       "3    20\n",
       "4    25\n",
       "dtype: int64"
      ]
     },
     "execution_count": 22,
     "metadata": {},
     "output_type": "execute_result"
    }
   ],
   "source": [
    "series = pd.Series([5, 10, 15, 20, 25])\n",
    "series"
   ]
  },
  {
   "cell_type": "code",
   "execution_count": 23,
   "id": "ca9c3bac",
   "metadata": {},
   "outputs": [
    {
     "data": {
      "text/plain": [
       "pandas.core.series.Series"
      ]
     },
     "execution_count": 23,
     "metadata": {},
     "output_type": "execute_result"
    }
   ],
   "source": [
    "type(series)"
   ]
  },
  {
   "cell_type": "code",
   "execution_count": 24,
   "id": "5d8ca332",
   "metadata": {},
   "outputs": [
    {
     "data": {
      "text/plain": [
       "20"
      ]
     },
     "execution_count": 24,
     "metadata": {},
     "output_type": "execute_result"
    }
   ],
   "source": [
    "series[3]"
   ]
  },
  {
   "cell_type": "code",
   "execution_count": 25,
   "id": "b8de2c93",
   "metadata": {},
   "outputs": [
    {
     "data": {
      "text/plain": [
       "0    p\n",
       "1    l\n",
       "2    a\n",
       "3    t\n",
       "4    z\n",
       "5    i\n",
       "dtype: object"
      ]
     },
     "execution_count": 25,
     "metadata": {},
     "output_type": "execute_result"
    }
   ],
   "source": [
    "cad = pd.Series(['p', 'l', 'a', 't', 'z','i'])\n",
    "cad"
   ]
  },
  {
   "cell_type": "code",
   "execution_count": 27,
   "id": "c65193e9",
   "metadata": {},
   "outputs": [
    {
     "name": "stdout",
     "output_type": "stream",
     "text": [
      "          0\n",
      "0      Hola\n",
      "1     mundo\n",
      "2  robotico\n"
     ]
    }
   ],
   "source": [
    "lst = ['Hola', 'mundo', 'robotico']\n",
    "df = pd.DataFrame(lst)\n",
    "print(df)"
   ]
  },
  {
   "cell_type": "code",
   "execution_count": 30,
   "id": "01213ccf",
   "metadata": {},
   "outputs": [
    {
     "data": {
      "text/html": [
       "<div>\n",
       "<style scoped>\n",
       "    .dataframe tbody tr th:only-of-type {\n",
       "        vertical-align: middle;\n",
       "    }\n",
       "\n",
       "    .dataframe tbody tr th {\n",
       "        vertical-align: top;\n",
       "    }\n",
       "\n",
       "    .dataframe thead th {\n",
       "        text-align: right;\n",
       "    }\n",
       "</style>\n",
       "<table border=\"1\" class=\"dataframe\">\n",
       "  <thead>\n",
       "    <tr style=\"text-align: right;\">\n",
       "      <th></th>\n",
       "      <th>Nombre</th>\n",
       "      <th>Edad</th>\n",
       "      <th>Pais</th>\n",
       "    </tr>\n",
       "  </thead>\n",
       "  <tbody>\n",
       "    <tr>\n",
       "      <th>0</th>\n",
       "      <td>Juan</td>\n",
       "      <td>25</td>\n",
       "      <td>MX</td>\n",
       "    </tr>\n",
       "    <tr>\n",
       "      <th>1</th>\n",
       "      <td>Ana</td>\n",
       "      <td>18</td>\n",
       "      <td>CO</td>\n",
       "    </tr>\n",
       "    <tr>\n",
       "      <th>2</th>\n",
       "      <td>Jose</td>\n",
       "      <td>23</td>\n",
       "      <td>BR</td>\n",
       "    </tr>\n",
       "    <tr>\n",
       "      <th>3</th>\n",
       "      <td>Arturo</td>\n",
       "      <td>27</td>\n",
       "      <td>MX</td>\n",
       "    </tr>\n",
       "  </tbody>\n",
       "</table>\n",
       "</div>"
      ],
      "text/plain": [
       "   Nombre  Edad Pais\n",
       "0    Juan    25   MX\n",
       "1     Ana    18   CO\n",
       "2    Jose    23   BR\n",
       "3  Arturo    27   MX"
      ]
     },
     "execution_count": 30,
     "metadata": {},
     "output_type": "execute_result"
    }
   ],
   "source": [
    "data = {'Nombre': ['Juan','Ana', 'Jose', 'Arturo'],\n",
    "       'Edad': [25, 18, 23, 27],\n",
    "       'Pais': ['MX', 'CO', 'BR', 'MX']}\n",
    "\n",
    "df = pd.DataFrame(data)\n",
    "df"
   ]
  },
  {
   "cell_type": "code",
   "execution_count": 32,
   "id": "8faf1327",
   "metadata": {},
   "outputs": [
    {
     "name": "stdout",
     "output_type": "stream",
     "text": [
      "   Nombre Pais\n",
      "0    Juan   MX\n",
      "1     Ana   CO\n",
      "2    Jose   BR\n",
      "3  Arturo   MX\n"
     ]
    }
   ],
   "source": [
    "print(df[['Nombre','Pais']])"
   ]
  },
  {
   "cell_type": "code",
   "execution_count": 34,
   "id": "833c9540",
   "metadata": {},
   "outputs": [
    {
     "data": {
      "text/html": [
       "<div>\n",
       "<style scoped>\n",
       "    .dataframe tbody tr th:only-of-type {\n",
       "        vertical-align: middle;\n",
       "    }\n",
       "\n",
       "    .dataframe tbody tr th {\n",
       "        vertical-align: top;\n",
       "    }\n",
       "\n",
       "    .dataframe thead th {\n",
       "        text-align: right;\n",
       "    }\n",
       "</style>\n",
       "<table border=\"1\" class=\"dataframe\">\n",
       "  <thead>\n",
       "    <tr style=\"text-align: right;\">\n",
       "      <th></th>\n",
       "      <th>id</th>\n",
       "      <th>name</th>\n",
       "      <th>artists</th>\n",
       "      <th>danceability</th>\n",
       "      <th>energy</th>\n",
       "      <th>key</th>\n",
       "      <th>loudness</th>\n",
       "      <th>mode</th>\n",
       "      <th>speechiness</th>\n",
       "      <th>acousticness</th>\n",
       "      <th>instrumentalness</th>\n",
       "      <th>liveness</th>\n",
       "      <th>valence</th>\n",
       "      <th>tempo</th>\n",
       "      <th>duration_ms</th>\n",
       "      <th>time_signature</th>\n",
       "    </tr>\n",
       "  </thead>\n",
       "  <tbody>\n",
       "    <tr>\n",
       "      <th>0</th>\n",
       "      <td>6DCZcSspjsKoFjzjrWoCd</td>\n",
       "      <td>God's Plan</td>\n",
       "      <td>Drake</td>\n",
       "      <td>0.754</td>\n",
       "      <td>0.449</td>\n",
       "      <td>7.0</td>\n",
       "      <td>-9.211</td>\n",
       "      <td>1.0</td>\n",
       "      <td>0.1090</td>\n",
       "      <td>0.0332</td>\n",
       "      <td>0.000083</td>\n",
       "      <td>0.552</td>\n",
       "      <td>0.357</td>\n",
       "      <td>77.169</td>\n",
       "      <td>198973.0</td>\n",
       "      <td>4.0</td>\n",
       "    </tr>\n",
       "    <tr>\n",
       "      <th>1</th>\n",
       "      <td>3ee8Jmje8o58CHK66QrVC</td>\n",
       "      <td>SAD!</td>\n",
       "      <td>XXXTENTACION</td>\n",
       "      <td>0.740</td>\n",
       "      <td>0.613</td>\n",
       "      <td>8.0</td>\n",
       "      <td>-4.880</td>\n",
       "      <td>1.0</td>\n",
       "      <td>0.1450</td>\n",
       "      <td>0.2580</td>\n",
       "      <td>0.003720</td>\n",
       "      <td>0.123</td>\n",
       "      <td>0.473</td>\n",
       "      <td>75.023</td>\n",
       "      <td>166606.0</td>\n",
       "      <td>4.0</td>\n",
       "    </tr>\n",
       "    <tr>\n",
       "      <th>2</th>\n",
       "      <td>0e7ipj03S05BNilyu5bRz</td>\n",
       "      <td>rockstar (feat. 21 Savage)</td>\n",
       "      <td>Post Malone</td>\n",
       "      <td>0.587</td>\n",
       "      <td>0.535</td>\n",
       "      <td>5.0</td>\n",
       "      <td>-6.090</td>\n",
       "      <td>0.0</td>\n",
       "      <td>0.0898</td>\n",
       "      <td>0.1170</td>\n",
       "      <td>0.000066</td>\n",
       "      <td>0.131</td>\n",
       "      <td>0.140</td>\n",
       "      <td>159.847</td>\n",
       "      <td>218147.0</td>\n",
       "      <td>4.0</td>\n",
       "    </tr>\n",
       "    <tr>\n",
       "      <th>3</th>\n",
       "      <td>3swc6WTsr7rl9DqQKQA55</td>\n",
       "      <td>Psycho (feat. Ty Dolla $ign)</td>\n",
       "      <td>Post Malone</td>\n",
       "      <td>0.739</td>\n",
       "      <td>0.559</td>\n",
       "      <td>8.0</td>\n",
       "      <td>-8.011</td>\n",
       "      <td>1.0</td>\n",
       "      <td>0.1170</td>\n",
       "      <td>0.5800</td>\n",
       "      <td>0.000000</td>\n",
       "      <td>0.112</td>\n",
       "      <td>0.439</td>\n",
       "      <td>140.124</td>\n",
       "      <td>221440.0</td>\n",
       "      <td>4.0</td>\n",
       "    </tr>\n",
       "    <tr>\n",
       "      <th>4</th>\n",
       "      <td>2G7V7zsVDxg1yRsu7Ew9R</td>\n",
       "      <td>In My Feelings</td>\n",
       "      <td>Drake</td>\n",
       "      <td>0.835</td>\n",
       "      <td>0.626</td>\n",
       "      <td>1.0</td>\n",
       "      <td>-5.833</td>\n",
       "      <td>1.0</td>\n",
       "      <td>0.1250</td>\n",
       "      <td>0.0589</td>\n",
       "      <td>0.000060</td>\n",
       "      <td>0.396</td>\n",
       "      <td>0.350</td>\n",
       "      <td>91.030</td>\n",
       "      <td>217925.0</td>\n",
       "      <td>4.0</td>\n",
       "    </tr>\n",
       "  </tbody>\n",
       "</table>\n",
       "</div>"
      ],
      "text/plain": [
       "                      id                          name       artists  \\\n",
       "0  6DCZcSspjsKoFjzjrWoCd                    God's Plan         Drake   \n",
       "1  3ee8Jmje8o58CHK66QrVC                          SAD!  XXXTENTACION   \n",
       "2  0e7ipj03S05BNilyu5bRz    rockstar (feat. 21 Savage)   Post Malone   \n",
       "3  3swc6WTsr7rl9DqQKQA55  Psycho (feat. Ty Dolla $ign)   Post Malone   \n",
       "4  2G7V7zsVDxg1yRsu7Ew9R                In My Feelings         Drake   \n",
       "\n",
       "   danceability  energy  key  loudness  mode  speechiness  acousticness  \\\n",
       "0         0.754   0.449  7.0    -9.211   1.0       0.1090        0.0332   \n",
       "1         0.740   0.613  8.0    -4.880   1.0       0.1450        0.2580   \n",
       "2         0.587   0.535  5.0    -6.090   0.0       0.0898        0.1170   \n",
       "3         0.739   0.559  8.0    -8.011   1.0       0.1170        0.5800   \n",
       "4         0.835   0.626  1.0    -5.833   1.0       0.1250        0.0589   \n",
       "\n",
       "   instrumentalness  liveness  valence    tempo  duration_ms  time_signature  \n",
       "0          0.000083     0.552    0.357   77.169     198973.0             4.0  \n",
       "1          0.003720     0.123    0.473   75.023     166606.0             4.0  \n",
       "2          0.000066     0.131    0.140  159.847     218147.0             4.0  \n",
       "3          0.000000     0.112    0.439  140.124     221440.0             4.0  \n",
       "4          0.000060     0.396    0.350   91.030     217925.0             4.0  "
      ]
     },
     "execution_count": 34,
     "metadata": {},
     "output_type": "execute_result"
    }
   ],
   "source": [
    "data = pd.read_csv('canciones-2018.csv')\n",
    "data.head(5)"
   ]
  },
  {
   "cell_type": "code",
   "execution_count": 36,
   "id": "93e52a25",
   "metadata": {},
   "outputs": [
    {
     "data": {
      "text/plain": [
       "'Post Malone'"
      ]
     },
     "execution_count": 36,
     "metadata": {},
     "output_type": "execute_result"
    }
   ],
   "source": [
    "artista = data.artists\n",
    "artista[5]"
   ]
  },
  {
   "cell_type": "code",
   "execution_count": 37,
   "id": "e79c35d6",
   "metadata": {},
   "outputs": [
    {
     "data": {
      "text/plain": [
       "id                     3GCdLUSnKSMJhs4Tj6CV3\n",
       "name                All The Stars (with SZA)\n",
       "artists                       Kendrick Lamar\n",
       "danceability                           0.698\n",
       "energy                                 0.633\n",
       "key                                      8.0\n",
       "loudness                              -4.946\n",
       "mode                                     1.0\n",
       "speechiness                           0.0597\n",
       "acousticness                          0.0605\n",
       "instrumentalness                    0.000194\n",
       "liveness                              0.0926\n",
       "valence                                0.552\n",
       "tempo                                 96.924\n",
       "duration_ms                         232187.0\n",
       "time_signature                           4.0\n",
       "Name: 15, dtype: object"
      ]
     },
     "execution_count": 37,
     "metadata": {},
     "output_type": "execute_result"
    }
   ],
   "source": [
    "info = data.iloc[15]\n",
    "info"
   ]
  },
  {
   "cell_type": "code",
   "execution_count": 38,
   "id": "e2726276",
   "metadata": {},
   "outputs": [
    {
     "data": {
      "text/html": [
       "<div>\n",
       "<style scoped>\n",
       "    .dataframe tbody tr th:only-of-type {\n",
       "        vertical-align: middle;\n",
       "    }\n",
       "\n",
       "    .dataframe tbody tr th {\n",
       "        vertical-align: top;\n",
       "    }\n",
       "\n",
       "    .dataframe thead th {\n",
       "        text-align: right;\n",
       "    }\n",
       "</style>\n",
       "<table border=\"1\" class=\"dataframe\">\n",
       "  <thead>\n",
       "    <tr style=\"text-align: right;\">\n",
       "      <th></th>\n",
       "      <th>id</th>\n",
       "      <th>name</th>\n",
       "      <th>artists</th>\n",
       "      <th>danceability</th>\n",
       "      <th>energy</th>\n",
       "      <th>key</th>\n",
       "      <th>loudness</th>\n",
       "      <th>mode</th>\n",
       "      <th>speechiness</th>\n",
       "      <th>acousticness</th>\n",
       "      <th>instrumentalness</th>\n",
       "      <th>liveness</th>\n",
       "      <th>valence</th>\n",
       "      <th>tempo</th>\n",
       "      <th>duration_ms</th>\n",
       "      <th>time_signature</th>\n",
       "    </tr>\n",
       "  </thead>\n",
       "  <tbody>\n",
       "    <tr>\n",
       "      <th>95</th>\n",
       "      <td>630sXRhIcfwr2e4RdNtjK</td>\n",
       "      <td>Rewrite The Stars</td>\n",
       "      <td>Zac Efron</td>\n",
       "      <td>0.684</td>\n",
       "      <td>0.619</td>\n",
       "      <td>10.0</td>\n",
       "      <td>-7.005</td>\n",
       "      <td>1.0</td>\n",
       "      <td>0.0386</td>\n",
       "      <td>0.0716</td>\n",
       "      <td>0.000000</td>\n",
       "      <td>0.1220</td>\n",
       "      <td>0.2840</td>\n",
       "      <td>125.046</td>\n",
       "      <td>217440.0</td>\n",
       "      <td>4.0</td>\n",
       "    </tr>\n",
       "    <tr>\n",
       "      <th>96</th>\n",
       "      <td>2xmrfQpmS2iJExTlklLoA</td>\n",
       "      <td>I Miss You (feat. Julia Michaels)</td>\n",
       "      <td>Clean Bandit</td>\n",
       "      <td>0.638</td>\n",
       "      <td>0.658</td>\n",
       "      <td>3.0</td>\n",
       "      <td>-6.318</td>\n",
       "      <td>1.0</td>\n",
       "      <td>0.0456</td>\n",
       "      <td>0.2450</td>\n",
       "      <td>0.000004</td>\n",
       "      <td>0.0919</td>\n",
       "      <td>0.3300</td>\n",
       "      <td>105.076</td>\n",
       "      <td>205748.0</td>\n",
       "      <td>4.0</td>\n",
       "    </tr>\n",
       "    <tr>\n",
       "      <th>97</th>\n",
       "      <td>5WvAo7DNuPRmk4APhdPzi</td>\n",
       "      <td>No Brainer</td>\n",
       "      <td>DJ Khaled</td>\n",
       "      <td>0.552</td>\n",
       "      <td>0.760</td>\n",
       "      <td>0.0</td>\n",
       "      <td>-4.706</td>\n",
       "      <td>1.0</td>\n",
       "      <td>0.3420</td>\n",
       "      <td>0.0733</td>\n",
       "      <td>0.000000</td>\n",
       "      <td>0.0865</td>\n",
       "      <td>0.6390</td>\n",
       "      <td>135.702</td>\n",
       "      <td>260000.0</td>\n",
       "      <td>5.0</td>\n",
       "    </tr>\n",
       "    <tr>\n",
       "      <th>98</th>\n",
       "      <td>1j4kHkkpqZRBwE0A4CN4Y</td>\n",
       "      <td>Dusk Till Dawn - Radio Edit</td>\n",
       "      <td>ZAYN</td>\n",
       "      <td>0.258</td>\n",
       "      <td>0.437</td>\n",
       "      <td>11.0</td>\n",
       "      <td>-6.593</td>\n",
       "      <td>0.0</td>\n",
       "      <td>0.0390</td>\n",
       "      <td>0.1010</td>\n",
       "      <td>0.000001</td>\n",
       "      <td>0.1060</td>\n",
       "      <td>0.0967</td>\n",
       "      <td>180.043</td>\n",
       "      <td>239000.0</td>\n",
       "      <td>4.0</td>\n",
       "    </tr>\n",
       "    <tr>\n",
       "      <th>99</th>\n",
       "      <td>3EPXxR3ImUwfayaurPi3c</td>\n",
       "      <td>Be Alright</td>\n",
       "      <td>Dean Lewis</td>\n",
       "      <td>0.553</td>\n",
       "      <td>0.586</td>\n",
       "      <td>11.0</td>\n",
       "      <td>-6.319</td>\n",
       "      <td>1.0</td>\n",
       "      <td>0.0362</td>\n",
       "      <td>0.6970</td>\n",
       "      <td>0.000000</td>\n",
       "      <td>0.0813</td>\n",
       "      <td>0.4430</td>\n",
       "      <td>126.684</td>\n",
       "      <td>196373.0</td>\n",
       "      <td>4.0</td>\n",
       "    </tr>\n",
       "  </tbody>\n",
       "</table>\n",
       "</div>"
      ],
      "text/plain": [
       "                       id                               name       artists  \\\n",
       "95  630sXRhIcfwr2e4RdNtjK                  Rewrite The Stars     Zac Efron   \n",
       "96  2xmrfQpmS2iJExTlklLoA  I Miss You (feat. Julia Michaels)  Clean Bandit   \n",
       "97  5WvAo7DNuPRmk4APhdPzi                         No Brainer     DJ Khaled   \n",
       "98  1j4kHkkpqZRBwE0A4CN4Y        Dusk Till Dawn - Radio Edit          ZAYN   \n",
       "99  3EPXxR3ImUwfayaurPi3c                         Be Alright    Dean Lewis   \n",
       "\n",
       "    danceability  energy   key  loudness  mode  speechiness  acousticness  \\\n",
       "95         0.684   0.619  10.0    -7.005   1.0       0.0386        0.0716   \n",
       "96         0.638   0.658   3.0    -6.318   1.0       0.0456        0.2450   \n",
       "97         0.552   0.760   0.0    -4.706   1.0       0.3420        0.0733   \n",
       "98         0.258   0.437  11.0    -6.593   0.0       0.0390        0.1010   \n",
       "99         0.553   0.586  11.0    -6.319   1.0       0.0362        0.6970   \n",
       "\n",
       "    instrumentalness  liveness  valence    tempo  duration_ms  time_signature  \n",
       "95          0.000000    0.1220   0.2840  125.046     217440.0             4.0  \n",
       "96          0.000004    0.0919   0.3300  105.076     205748.0             4.0  \n",
       "97          0.000000    0.0865   0.6390  135.702     260000.0             5.0  \n",
       "98          0.000001    0.1060   0.0967  180.043     239000.0             4.0  \n",
       "99          0.000000    0.0813   0.4430  126.684     196373.0             4.0  "
      ]
     },
     "execution_count": 38,
     "metadata": {},
     "output_type": "execute_result"
    }
   ],
   "source": [
    "data.tail()"
   ]
  },
  {
   "cell_type": "code",
   "execution_count": 39,
   "id": "d5ef3131",
   "metadata": {},
   "outputs": [
    {
     "data": {
      "text/plain": [
       "(100, 16)"
      ]
     },
     "execution_count": 39,
     "metadata": {},
     "output_type": "execute_result"
    }
   ],
   "source": [
    "data.shape"
   ]
  },
  {
   "cell_type": "code",
   "execution_count": 40,
   "id": "516982bc",
   "metadata": {},
   "outputs": [
    {
     "data": {
      "text/plain": [
       "Index(['id', 'name', 'artists', 'danceability', 'energy', 'key', 'loudness',\n",
       "       'mode', 'speechiness', 'acousticness', 'instrumentalness', 'liveness',\n",
       "       'valence', 'tempo', 'duration_ms', 'time_signature'],\n",
       "      dtype='object')"
      ]
     },
     "execution_count": 40,
     "metadata": {},
     "output_type": "execute_result"
    }
   ],
   "source": [
    "data.columns"
   ]
  },
  {
   "cell_type": "code",
   "execution_count": 41,
   "id": "29b63be4",
   "metadata": {},
   "outputs": [
    {
     "data": {
      "text/plain": [
       "<bound method NDFrame.describe of 0      77.169\n",
       "1      75.023\n",
       "2     159.847\n",
       "3     140.124\n",
       "4      91.030\n",
       "       ...   \n",
       "95    125.046\n",
       "96    105.076\n",
       "97    135.702\n",
       "98    180.043\n",
       "99    126.684\n",
       "Name: tempo, Length: 100, dtype: float64>"
      ]
     },
     "execution_count": 41,
     "metadata": {},
     "output_type": "execute_result"
    }
   ],
   "source": [
    "data['tempo'].describe"
   ]
  },
  {
   "cell_type": "code",
   "execution_count": 42,
   "id": "485870cf",
   "metadata": {},
   "outputs": [
    {
     "data": {
      "text/html": [
       "<div>\n",
       "<style scoped>\n",
       "    .dataframe tbody tr th:only-of-type {\n",
       "        vertical-align: middle;\n",
       "    }\n",
       "\n",
       "    .dataframe tbody tr th {\n",
       "        vertical-align: top;\n",
       "    }\n",
       "\n",
       "    .dataframe thead th {\n",
       "        text-align: right;\n",
       "    }\n",
       "</style>\n",
       "<table border=\"1\" class=\"dataframe\">\n",
       "  <thead>\n",
       "    <tr style=\"text-align: right;\">\n",
       "      <th></th>\n",
       "      <th>id</th>\n",
       "      <th>name</th>\n",
       "      <th>artists</th>\n",
       "      <th>danceability</th>\n",
       "      <th>energy</th>\n",
       "      <th>key</th>\n",
       "      <th>loudness</th>\n",
       "      <th>mode</th>\n",
       "      <th>speechiness</th>\n",
       "      <th>acousticness</th>\n",
       "      <th>instrumentalness</th>\n",
       "      <th>liveness</th>\n",
       "      <th>valence</th>\n",
       "      <th>tempo</th>\n",
       "      <th>duration_ms</th>\n",
       "      <th>time_signature</th>\n",
       "    </tr>\n",
       "  </thead>\n",
       "  <tbody>\n",
       "    <tr>\n",
       "      <th>99</th>\n",
       "      <td>3EPXxR3ImUwfayaurPi3c</td>\n",
       "      <td>Be Alright</td>\n",
       "      <td>Dean Lewis</td>\n",
       "      <td>0.553</td>\n",
       "      <td>0.586</td>\n",
       "      <td>11.0</td>\n",
       "      <td>-6.319</td>\n",
       "      <td>1.0</td>\n",
       "      <td>0.0362</td>\n",
       "      <td>0.6970</td>\n",
       "      <td>0.000000</td>\n",
       "      <td>0.0813</td>\n",
       "      <td>0.4430</td>\n",
       "      <td>126.684</td>\n",
       "      <td>196373.0</td>\n",
       "      <td>4.0</td>\n",
       "    </tr>\n",
       "    <tr>\n",
       "      <th>98</th>\n",
       "      <td>1j4kHkkpqZRBwE0A4CN4Y</td>\n",
       "      <td>Dusk Till Dawn - Radio Edit</td>\n",
       "      <td>ZAYN</td>\n",
       "      <td>0.258</td>\n",
       "      <td>0.437</td>\n",
       "      <td>11.0</td>\n",
       "      <td>-6.593</td>\n",
       "      <td>0.0</td>\n",
       "      <td>0.0390</td>\n",
       "      <td>0.1010</td>\n",
       "      <td>0.000001</td>\n",
       "      <td>0.1060</td>\n",
       "      <td>0.0967</td>\n",
       "      <td>180.043</td>\n",
       "      <td>239000.0</td>\n",
       "      <td>4.0</td>\n",
       "    </tr>\n",
       "    <tr>\n",
       "      <th>97</th>\n",
       "      <td>5WvAo7DNuPRmk4APhdPzi</td>\n",
       "      <td>No Brainer</td>\n",
       "      <td>DJ Khaled</td>\n",
       "      <td>0.552</td>\n",
       "      <td>0.760</td>\n",
       "      <td>0.0</td>\n",
       "      <td>-4.706</td>\n",
       "      <td>1.0</td>\n",
       "      <td>0.3420</td>\n",
       "      <td>0.0733</td>\n",
       "      <td>0.000000</td>\n",
       "      <td>0.0865</td>\n",
       "      <td>0.6390</td>\n",
       "      <td>135.702</td>\n",
       "      <td>260000.0</td>\n",
       "      <td>5.0</td>\n",
       "    </tr>\n",
       "    <tr>\n",
       "      <th>96</th>\n",
       "      <td>2xmrfQpmS2iJExTlklLoA</td>\n",
       "      <td>I Miss You (feat. Julia Michaels)</td>\n",
       "      <td>Clean Bandit</td>\n",
       "      <td>0.638</td>\n",
       "      <td>0.658</td>\n",
       "      <td>3.0</td>\n",
       "      <td>-6.318</td>\n",
       "      <td>1.0</td>\n",
       "      <td>0.0456</td>\n",
       "      <td>0.2450</td>\n",
       "      <td>0.000004</td>\n",
       "      <td>0.0919</td>\n",
       "      <td>0.3300</td>\n",
       "      <td>105.076</td>\n",
       "      <td>205748.0</td>\n",
       "      <td>4.0</td>\n",
       "    </tr>\n",
       "    <tr>\n",
       "      <th>95</th>\n",
       "      <td>630sXRhIcfwr2e4RdNtjK</td>\n",
       "      <td>Rewrite The Stars</td>\n",
       "      <td>Zac Efron</td>\n",
       "      <td>0.684</td>\n",
       "      <td>0.619</td>\n",
       "      <td>10.0</td>\n",
       "      <td>-7.005</td>\n",
       "      <td>1.0</td>\n",
       "      <td>0.0386</td>\n",
       "      <td>0.0716</td>\n",
       "      <td>0.000000</td>\n",
       "      <td>0.1220</td>\n",
       "      <td>0.2840</td>\n",
       "      <td>125.046</td>\n",
       "      <td>217440.0</td>\n",
       "      <td>4.0</td>\n",
       "    </tr>\n",
       "    <tr>\n",
       "      <th>...</th>\n",
       "      <td>...</td>\n",
       "      <td>...</td>\n",
       "      <td>...</td>\n",
       "      <td>...</td>\n",
       "      <td>...</td>\n",
       "      <td>...</td>\n",
       "      <td>...</td>\n",
       "      <td>...</td>\n",
       "      <td>...</td>\n",
       "      <td>...</td>\n",
       "      <td>...</td>\n",
       "      <td>...</td>\n",
       "      <td>...</td>\n",
       "      <td>...</td>\n",
       "      <td>...</td>\n",
       "      <td>...</td>\n",
       "    </tr>\n",
       "    <tr>\n",
       "      <th>4</th>\n",
       "      <td>2G7V7zsVDxg1yRsu7Ew9R</td>\n",
       "      <td>In My Feelings</td>\n",
       "      <td>Drake</td>\n",
       "      <td>0.835</td>\n",
       "      <td>0.626</td>\n",
       "      <td>1.0</td>\n",
       "      <td>-5.833</td>\n",
       "      <td>1.0</td>\n",
       "      <td>0.1250</td>\n",
       "      <td>0.0589</td>\n",
       "      <td>0.000060</td>\n",
       "      <td>0.3960</td>\n",
       "      <td>0.3500</td>\n",
       "      <td>91.030</td>\n",
       "      <td>217925.0</td>\n",
       "      <td>4.0</td>\n",
       "    </tr>\n",
       "    <tr>\n",
       "      <th>3</th>\n",
       "      <td>3swc6WTsr7rl9DqQKQA55</td>\n",
       "      <td>Psycho (feat. Ty Dolla $ign)</td>\n",
       "      <td>Post Malone</td>\n",
       "      <td>0.739</td>\n",
       "      <td>0.559</td>\n",
       "      <td>8.0</td>\n",
       "      <td>-8.011</td>\n",
       "      <td>1.0</td>\n",
       "      <td>0.1170</td>\n",
       "      <td>0.5800</td>\n",
       "      <td>0.000000</td>\n",
       "      <td>0.1120</td>\n",
       "      <td>0.4390</td>\n",
       "      <td>140.124</td>\n",
       "      <td>221440.0</td>\n",
       "      <td>4.0</td>\n",
       "    </tr>\n",
       "    <tr>\n",
       "      <th>2</th>\n",
       "      <td>0e7ipj03S05BNilyu5bRz</td>\n",
       "      <td>rockstar (feat. 21 Savage)</td>\n",
       "      <td>Post Malone</td>\n",
       "      <td>0.587</td>\n",
       "      <td>0.535</td>\n",
       "      <td>5.0</td>\n",
       "      <td>-6.090</td>\n",
       "      <td>0.0</td>\n",
       "      <td>0.0898</td>\n",
       "      <td>0.1170</td>\n",
       "      <td>0.000066</td>\n",
       "      <td>0.1310</td>\n",
       "      <td>0.1400</td>\n",
       "      <td>159.847</td>\n",
       "      <td>218147.0</td>\n",
       "      <td>4.0</td>\n",
       "    </tr>\n",
       "    <tr>\n",
       "      <th>1</th>\n",
       "      <td>3ee8Jmje8o58CHK66QrVC</td>\n",
       "      <td>SAD!</td>\n",
       "      <td>XXXTENTACION</td>\n",
       "      <td>0.740</td>\n",
       "      <td>0.613</td>\n",
       "      <td>8.0</td>\n",
       "      <td>-4.880</td>\n",
       "      <td>1.0</td>\n",
       "      <td>0.1450</td>\n",
       "      <td>0.2580</td>\n",
       "      <td>0.003720</td>\n",
       "      <td>0.1230</td>\n",
       "      <td>0.4730</td>\n",
       "      <td>75.023</td>\n",
       "      <td>166606.0</td>\n",
       "      <td>4.0</td>\n",
       "    </tr>\n",
       "    <tr>\n",
       "      <th>0</th>\n",
       "      <td>6DCZcSspjsKoFjzjrWoCd</td>\n",
       "      <td>God's Plan</td>\n",
       "      <td>Drake</td>\n",
       "      <td>0.754</td>\n",
       "      <td>0.449</td>\n",
       "      <td>7.0</td>\n",
       "      <td>-9.211</td>\n",
       "      <td>1.0</td>\n",
       "      <td>0.1090</td>\n",
       "      <td>0.0332</td>\n",
       "      <td>0.000083</td>\n",
       "      <td>0.5520</td>\n",
       "      <td>0.3570</td>\n",
       "      <td>77.169</td>\n",
       "      <td>198973.0</td>\n",
       "      <td>4.0</td>\n",
       "    </tr>\n",
       "  </tbody>\n",
       "</table>\n",
       "<p>100 rows × 16 columns</p>\n",
       "</div>"
      ],
      "text/plain": [
       "                       id                               name       artists  \\\n",
       "99  3EPXxR3ImUwfayaurPi3c                         Be Alright    Dean Lewis   \n",
       "98  1j4kHkkpqZRBwE0A4CN4Y        Dusk Till Dawn - Radio Edit          ZAYN   \n",
       "97  5WvAo7DNuPRmk4APhdPzi                         No Brainer     DJ Khaled   \n",
       "96  2xmrfQpmS2iJExTlklLoA  I Miss You (feat. Julia Michaels)  Clean Bandit   \n",
       "95  630sXRhIcfwr2e4RdNtjK                  Rewrite The Stars     Zac Efron   \n",
       "..                    ...                                ...           ...   \n",
       "4   2G7V7zsVDxg1yRsu7Ew9R                     In My Feelings         Drake   \n",
       "3   3swc6WTsr7rl9DqQKQA55       Psycho (feat. Ty Dolla $ign)   Post Malone   \n",
       "2   0e7ipj03S05BNilyu5bRz         rockstar (feat. 21 Savage)   Post Malone   \n",
       "1   3ee8Jmje8o58CHK66QrVC                               SAD!  XXXTENTACION   \n",
       "0   6DCZcSspjsKoFjzjrWoCd                         God's Plan         Drake   \n",
       "\n",
       "    danceability  energy   key  loudness  mode  speechiness  acousticness  \\\n",
       "99         0.553   0.586  11.0    -6.319   1.0       0.0362        0.6970   \n",
       "98         0.258   0.437  11.0    -6.593   0.0       0.0390        0.1010   \n",
       "97         0.552   0.760   0.0    -4.706   1.0       0.3420        0.0733   \n",
       "96         0.638   0.658   3.0    -6.318   1.0       0.0456        0.2450   \n",
       "95         0.684   0.619  10.0    -7.005   1.0       0.0386        0.0716   \n",
       "..           ...     ...   ...       ...   ...          ...           ...   \n",
       "4          0.835   0.626   1.0    -5.833   1.0       0.1250        0.0589   \n",
       "3          0.739   0.559   8.0    -8.011   1.0       0.1170        0.5800   \n",
       "2          0.587   0.535   5.0    -6.090   0.0       0.0898        0.1170   \n",
       "1          0.740   0.613   8.0    -4.880   1.0       0.1450        0.2580   \n",
       "0          0.754   0.449   7.0    -9.211   1.0       0.1090        0.0332   \n",
       "\n",
       "    instrumentalness  liveness  valence    tempo  duration_ms  time_signature  \n",
       "99          0.000000    0.0813   0.4430  126.684     196373.0             4.0  \n",
       "98          0.000001    0.1060   0.0967  180.043     239000.0             4.0  \n",
       "97          0.000000    0.0865   0.6390  135.702     260000.0             5.0  \n",
       "96          0.000004    0.0919   0.3300  105.076     205748.0             4.0  \n",
       "95          0.000000    0.1220   0.2840  125.046     217440.0             4.0  \n",
       "..               ...       ...      ...      ...          ...             ...  \n",
       "4           0.000060    0.3960   0.3500   91.030     217925.0             4.0  \n",
       "3           0.000000    0.1120   0.4390  140.124     221440.0             4.0  \n",
       "2           0.000066    0.1310   0.1400  159.847     218147.0             4.0  \n",
       "1           0.003720    0.1230   0.4730   75.023     166606.0             4.0  \n",
       "0           0.000083    0.5520   0.3570   77.169     198973.0             4.0  \n",
       "\n",
       "[100 rows x 16 columns]"
      ]
     },
     "execution_count": 42,
     "metadata": {},
     "output_type": "execute_result"
    }
   ],
   "source": [
    "data.sort_index(axis=0, ascending=False)"
   ]
  },
  {
   "cell_type": "code",
   "execution_count": null,
   "id": "a1a027ae",
   "metadata": {},
   "outputs": [],
   "source": []
  }
 ],
 "metadata": {
  "kernelspec": {
   "display_name": "Python 3",
   "language": "python",
   "name": "python3"
  },
  "language_info": {
   "codemirror_mode": {
    "name": "ipython",
    "version": 3
   },
   "file_extension": ".py",
   "mimetype": "text/x-python",
   "name": "python",
   "nbconvert_exporter": "python",
   "pygments_lexer": "ipython3",
   "version": "3.8.6"
  }
 },
 "nbformat": 4,
 "nbformat_minor": 5
}
